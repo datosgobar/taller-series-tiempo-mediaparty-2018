{
 "cells": [
  {
   "cell_type": "markdown",
   "metadata": {},
   "source": [
    "## Con `requests`"
   ]
  },
  {
   "cell_type": "code",
   "execution_count": 1,
   "metadata": {},
   "outputs": [],
   "source": [
    "import requests\n",
    "import urllib.parse"
   ]
  },
  {
   "cell_type": "code",
   "execution_count": 2,
   "metadata": {},
   "outputs": [],
   "source": [
    "API_BASE_URL = \"http://apis.datos.gob.ar/series/api/\""
   ]
  },
  {
   "cell_type": "code",
   "execution_count": 3,
   "metadata": {},
   "outputs": [],
   "source": [
    "def get_api_call(ids, **kwargs):\n",
    "    kwargs[\"ids\"] = \",\".join(ids)\n",
    "    return \"{}{}?{}\".format(API_BASE_URL, \"series\", urllib.parse.urlencode(kwargs))    "
   ]
  },
  {
   "cell_type": "code",
   "execution_count": 7,
   "metadata": {},
   "outputs": [
    {
     "name": "stdout",
     "output_type": "stream",
     "text": [
      "http://apis.datos.gob.ar/series/api/series?start_date=2018-08&ids=168.1_T_CAMBIOR_D_0_0_26\n"
     ]
    }
   ],
   "source": [
    "api_call = get_api_call([\"168.1_T_CAMBIOR_D_0_0_26\"], start_date=\"2018-08\")\n",
    "print(api_call)"
   ]
  },
  {
   "cell_type": "code",
   "execution_count": 8,
   "metadata": {},
   "outputs": [
    {
     "data": {
      "text/plain": [
       "{'data': [['2018-08-01', 27.525],\n",
       "  ['2018-08-02', 27.45],\n",
       "  ['2018-08-03', 27.29],\n",
       "  ['2018-08-04', 27.29],\n",
       "  ['2018-08-05', 27.29],\n",
       "  ['2018-08-06', 27.33],\n",
       "  ['2018-08-07', 27.395],\n",
       "  ['2018-08-08', 27.65],\n",
       "  ['2018-08-09', 28.11],\n",
       "  ['2018-08-10', 29.25],\n",
       "  ['2018-08-11', 29.25],\n",
       "  ['2018-08-12', 29.25],\n",
       "  ['2018-08-13', 29.925],\n",
       "  ['2018-08-14', 29.61],\n",
       "  ['2018-08-15', 30.0],\n",
       "  ['2018-08-16', 29.84]],\n",
       " 'meta': [{'end_date': '2018-08-16',\n",
       "   'frequency': 'day',\n",
       "   'start_date': '2018-08-01'},\n",
       "  {'catalog': {'title': 'Datos Programación Macroeconómica'},\n",
       "   'dataset': {'description': 'Datos de tipo de cambio $-USD - futuro dólar . Con respecto al dólar de Estados Unidos. Frecuencia diaria.',\n",
       "    'issued': '2017-09-28',\n",
       "    'source': 'BCRA, MAE, Rofex y Bloomberg',\n",
       "    'title': 'Tipo de Cambio $-USD - Futuro Dólar'},\n",
       "   'distribution': {'downloadURL': 'http://infra.datos.gob.ar/catalog/sspm/dataset/168/distribution/168.1/download/datos-tipo-cambio-usd-futuro-dolar-frecuencia-diaria.csv',\n",
       "    'title': 'Tipo de cambio $-USD - futuro dólar. Valores diarios'},\n",
       "   'field': {'description': 'Tipo de Cambio BNA (Vendedor)',\n",
       "    'id': '168.1_T_CAMBIOR_D_0_0_26',\n",
       "    'units': 'Pesos argentinos por dólar'}}],\n",
       " 'params': {'identifiers': [{'dataset': '168',\n",
       "    'distribution': '168.1',\n",
       "    'id': '168.1_T_CAMBIOR_D_0_0_26'}],\n",
       "  'ids': '168.1_T_CAMBIOR_D_0_0_26',\n",
       "  'start_date': '2018-08'}}"
      ]
     },
     "execution_count": 8,
     "metadata": {},
     "output_type": "execute_result"
    }
   ],
   "source": [
    "requests.get(api_call).json()"
   ]
  },
  {
   "cell_type": "markdown",
   "metadata": {},
   "source": [
    "## Con `pandas`"
   ]
  },
  {
   "cell_type": "code",
   "execution_count": 9,
   "metadata": {},
   "outputs": [],
   "source": [
    "import pandas as pd"
   ]
  },
  {
   "cell_type": "code",
   "execution_count": 10,
   "metadata": {},
   "outputs": [],
   "source": [
    "df = pd.read_csv(get_api_call(\n",
    "    [\"168.1_T_CAMBIOR_D_0_0_26\", \"101.1_I2NG_2016_M_22\", \"116.3_TCRMA_0_M_36\", \"143.3_NO_PR_2004_A_21\",\n",
    "     \"11.3_VMATC_2004_M_12\"], \n",
    "    format=\"csv\", start_date=2016\n",
    "))"
   ]
  },
  {
   "cell_type": "code",
   "execution_count": 11,
   "metadata": {},
   "outputs": [
    {
     "data": {
      "text/html": [
       "<div>\n",
       "<style scoped>\n",
       "    .dataframe tbody tr th:only-of-type {\n",
       "        vertical-align: middle;\n",
       "    }\n",
       "\n",
       "    .dataframe tbody tr th {\n",
       "        vertical-align: top;\n",
       "    }\n",
       "\n",
       "    .dataframe thead th {\n",
       "        text-align: right;\n",
       "    }\n",
       "</style>\n",
       "<table border=\"1\" class=\"dataframe\">\n",
       "  <thead>\n",
       "    <tr style=\"text-align: right;\">\n",
       "      <th></th>\n",
       "      <th>indice_tiempo</th>\n",
       "      <th>tipo_cambio_bna_vendedor</th>\n",
       "      <th>ipc_2016_nivel_general</th>\n",
       "      <th>tipo_cambio_real_multilateral_actual</th>\n",
       "      <th>indice_serie_original</th>\n",
       "      <th>construccion</th>\n",
       "    </tr>\n",
       "  </thead>\n",
       "  <tbody>\n",
       "    <tr>\n",
       "      <th>0</th>\n",
       "      <td>2016-01-01</td>\n",
       "      <td>13.770968</td>\n",
       "      <td>NaN</td>\n",
       "      <td>96.037288</td>\n",
       "      <td>136.224649</td>\n",
       "      <td>141.662982</td>\n",
       "    </tr>\n",
       "    <tr>\n",
       "      <th>1</th>\n",
       "      <td>2016-02-01</td>\n",
       "      <td>14.927586</td>\n",
       "      <td>NaN</td>\n",
       "      <td>102.527508</td>\n",
       "      <td>134.701421</td>\n",
       "      <td>138.955923</td>\n",
       "    </tr>\n",
       "    <tr>\n",
       "      <th>2</th>\n",
       "      <td>2016-03-01</td>\n",
       "      <td>15.117742</td>\n",
       "      <td>NaN</td>\n",
       "      <td>102.953278</td>\n",
       "      <td>149.352475</td>\n",
       "      <td>140.656424</td>\n",
       "    </tr>\n",
       "    <tr>\n",
       "      <th>3</th>\n",
       "      <td>2016-04-01</td>\n",
       "      <td>14.623333</td>\n",
       "      <td>85.5254</td>\n",
       "      <td>97.192801</td>\n",
       "      <td>152.711833</td>\n",
       "      <td>126.001883</td>\n",
       "    </tr>\n",
       "    <tr>\n",
       "      <th>4</th>\n",
       "      <td>2016-05-01</td>\n",
       "      <td>14.329032</td>\n",
       "      <td>89.1118</td>\n",
       "      <td>91.175438</td>\n",
       "      <td>164.217485</td>\n",
       "      <td>134.256954</td>\n",
       "    </tr>\n",
       "    <tr>\n",
       "      <th>5</th>\n",
       "      <td>2016-06-01</td>\n",
       "      <td>14.326667</td>\n",
       "      <td>91.8528</td>\n",
       "      <td>88.988956</td>\n",
       "      <td>154.937264</td>\n",
       "      <td>128.572706</td>\n",
       "    </tr>\n",
       "    <tr>\n",
       "      <th>6</th>\n",
       "      <td>2016-07-01</td>\n",
       "      <td>15.104839</td>\n",
       "      <td>93.7328</td>\n",
       "      <td>92.526172</td>\n",
       "      <td>145.010287</td>\n",
       "      <td>128.647626</td>\n",
       "    </tr>\n",
       "    <tr>\n",
       "      <th>7</th>\n",
       "      <td>2016-08-01</td>\n",
       "      <td>15.043548</td>\n",
       "      <td>93.9221</td>\n",
       "      <td>92.525709</td>\n",
       "      <td>143.551707</td>\n",
       "      <td>144.744075</td>\n",
       "    </tr>\n",
       "    <tr>\n",
       "      <th>8</th>\n",
       "      <td>2016-09-01</td>\n",
       "      <td>15.273333</td>\n",
       "      <td>95.0014</td>\n",
       "      <td>92.953656</td>\n",
       "      <td>141.082192</td>\n",
       "      <td>136.889907</td>\n",
       "    </tr>\n",
       "    <tr>\n",
       "      <th>9</th>\n",
       "      <td>2016-10-01</td>\n",
       "      <td>15.387097</td>\n",
       "      <td>97.2428</td>\n",
       "      <td>91.703985</td>\n",
       "      <td>141.583637</td>\n",
       "      <td>127.559134</td>\n",
       "    </tr>\n",
       "    <tr>\n",
       "      <th>10</th>\n",
       "      <td>2016-11-01</td>\n",
       "      <td>15.545000</td>\n",
       "      <td>98.8166</td>\n",
       "      <td>88.741867</td>\n",
       "      <td>145.113998</td>\n",
       "      <td>133.994217</td>\n",
       "    </tr>\n",
       "    <tr>\n",
       "      <th>11</th>\n",
       "      <td>2016-12-01</td>\n",
       "      <td>16.050000</td>\n",
       "      <td>100.0000</td>\n",
       "      <td>89.660637</td>\n",
       "      <td>143.685102</td>\n",
       "      <td>130.647006</td>\n",
       "    </tr>\n",
       "    <tr>\n",
       "      <th>12</th>\n",
       "      <td>2017-01-01</td>\n",
       "      <td>16.106452</td>\n",
       "      <td>101.3130</td>\n",
       "      <td>90.435209</td>\n",
       "      <td>138.587537</td>\n",
       "      <td>140.698512</td>\n",
       "    </tr>\n",
       "    <tr>\n",
       "      <th>13</th>\n",
       "      <td>2017-02-01</td>\n",
       "      <td>15.782143</td>\n",
       "      <td>103.8085</td>\n",
       "      <td>88.677236</td>\n",
       "      <td>131.899329</td>\n",
       "      <td>137.008553</td>\n",
       "    </tr>\n",
       "    <tr>\n",
       "      <th>14</th>\n",
       "      <td>2017-03-01</td>\n",
       "      <td>15.716129</td>\n",
       "      <td>106.2627</td>\n",
       "      <td>86.401098</td>\n",
       "      <td>152.374182</td>\n",
       "      <td>151.319358</td>\n",
       "    </tr>\n",
       "    <tr>\n",
       "      <th>15</th>\n",
       "      <td>2017-04-01</td>\n",
       "      <td>15.548333</td>\n",
       "      <td>109.0613</td>\n",
       "      <td>83.432231</td>\n",
       "      <td>153.391480</td>\n",
       "      <td>135.921593</td>\n",
       "    </tr>\n",
       "    <tr>\n",
       "      <th>16</th>\n",
       "      <td>2017-05-01</td>\n",
       "      <td>15.915484</td>\n",
       "      <td>110.4607</td>\n",
       "      <td>83.869594</td>\n",
       "      <td>170.435025</td>\n",
       "      <td>147.540016</td>\n",
       "    </tr>\n",
       "    <tr>\n",
       "      <th>17</th>\n",
       "      <td>2017-06-01</td>\n",
       "      <td>16.295000</td>\n",
       "      <td>111.9943</td>\n",
       "      <td>84.762445</td>\n",
       "      <td>162.307068</td>\n",
       "      <td>148.103493</td>\n",
       "    </tr>\n",
       "    <tr>\n",
       "      <th>18</th>\n",
       "      <td>2017-07-01</td>\n",
       "      <td>17.372258</td>\n",
       "      <td>113.9199</td>\n",
       "      <td>90.799481</td>\n",
       "      <td>151.314340</td>\n",
       "      <td>148.882076</td>\n",
       "    </tr>\n",
       "    <tr>\n",
       "      <th>19</th>\n",
       "      <td>2017-08-01</td>\n",
       "      <td>17.626290</td>\n",
       "      <td>115.6031</td>\n",
       "      <td>92.279877</td>\n",
       "      <td>148.802720</td>\n",
       "      <td>162.215212</td>\n",
       "    </tr>\n",
       "    <tr>\n",
       "      <th>20</th>\n",
       "      <td>2017-09-01</td>\n",
       "      <td>17.428333</td>\n",
       "      <td>117.9656</td>\n",
       "      <td>90.433236</td>\n",
       "      <td>145.866951</td>\n",
       "      <td>153.876485</td>\n",
       "    </tr>\n",
       "    <tr>\n",
       "      <th>21</th>\n",
       "      <td>2017-10-01</td>\n",
       "      <td>17.659677</td>\n",
       "      <td>119.4985</td>\n",
       "      <td>88.784065</td>\n",
       "      <td>148.973111</td>\n",
       "      <td>151.729025</td>\n",
       "    </tr>\n",
       "    <tr>\n",
       "      <th>22</th>\n",
       "      <td>2017-11-01</td>\n",
       "      <td>17.693333</td>\n",
       "      <td>120.8941</td>\n",
       "      <td>87.113008</td>\n",
       "      <td>151.321668</td>\n",
       "      <td>155.751727</td>\n",
       "    </tr>\n",
       "    <tr>\n",
       "      <th>23</th>\n",
       "      <td>2017-12-01</td>\n",
       "      <td>17.810903</td>\n",
       "      <td>125.0392</td>\n",
       "      <td>86.546066</td>\n",
       "      <td>146.912976</td>\n",
       "      <td>144.970081</td>\n",
       "    </tr>\n",
       "    <tr>\n",
       "      <th>24</th>\n",
       "      <td>2018-01-01</td>\n",
       "      <td>19.023065</td>\n",
       "      <td>127.0147</td>\n",
       "      <td>96.628715</td>\n",
       "      <td>144.086686</td>\n",
       "      <td>158.920762</td>\n",
       "    </tr>\n",
       "    <tr>\n",
       "      <th>25</th>\n",
       "      <td>2018-02-01</td>\n",
       "      <td>19.835179</td>\n",
       "      <td>130.2913</td>\n",
       "      <td>96.121512</td>\n",
       "      <td>138.470530</td>\n",
       "      <td>152.630381</td>\n",
       "    </tr>\n",
       "    <tr>\n",
       "      <th>26</th>\n",
       "      <td>2018-03-01</td>\n",
       "      <td>20.229355</td>\n",
       "      <td>133.5028</td>\n",
       "      <td>93.062453</td>\n",
       "      <td>155.570021</td>\n",
       "      <td>158.931156</td>\n",
       "    </tr>\n",
       "    <tr>\n",
       "      <th>27</th>\n",
       "      <td>2018-04-01</td>\n",
       "      <td>20.251100</td>\n",
       "      <td>136.9380</td>\n",
       "      <td>90.715862</td>\n",
       "      <td>152.432629</td>\n",
       "      <td>149.860484</td>\n",
       "    </tr>\n",
       "    <tr>\n",
       "      <th>28</th>\n",
       "      <td>2018-05-01</td>\n",
       "      <td>23.600452</td>\n",
       "      <td>139.5800</td>\n",
       "      <td>104.302984</td>\n",
       "      <td>160.622476</td>\n",
       "      <td>154.011846</td>\n",
       "    </tr>\n",
       "    <tr>\n",
       "      <th>29</th>\n",
       "      <td>2018-06-01</td>\n",
       "      <td>26.674333</td>\n",
       "      <td>145.0582</td>\n",
       "      <td>114.546258</td>\n",
       "      <td>NaN</td>\n",
       "      <td>NaN</td>\n",
       "    </tr>\n",
       "    <tr>\n",
       "      <th>30</th>\n",
       "      <td>2018-07-01</td>\n",
       "      <td>27.607645</td>\n",
       "      <td>149.1178</td>\n",
       "      <td>107.105698</td>\n",
       "      <td>NaN</td>\n",
       "      <td>NaN</td>\n",
       "    </tr>\n",
       "  </tbody>\n",
       "</table>\n",
       "</div>"
      ],
      "text/plain": [
       "   indice_tiempo  tipo_cambio_bna_vendedor  ipc_2016_nivel_general  \\\n",
       "0     2016-01-01                 13.770968                     NaN   \n",
       "1     2016-02-01                 14.927586                     NaN   \n",
       "2     2016-03-01                 15.117742                     NaN   \n",
       "3     2016-04-01                 14.623333                 85.5254   \n",
       "4     2016-05-01                 14.329032                 89.1118   \n",
       "5     2016-06-01                 14.326667                 91.8528   \n",
       "6     2016-07-01                 15.104839                 93.7328   \n",
       "7     2016-08-01                 15.043548                 93.9221   \n",
       "8     2016-09-01                 15.273333                 95.0014   \n",
       "9     2016-10-01                 15.387097                 97.2428   \n",
       "10    2016-11-01                 15.545000                 98.8166   \n",
       "11    2016-12-01                 16.050000                100.0000   \n",
       "12    2017-01-01                 16.106452                101.3130   \n",
       "13    2017-02-01                 15.782143                103.8085   \n",
       "14    2017-03-01                 15.716129                106.2627   \n",
       "15    2017-04-01                 15.548333                109.0613   \n",
       "16    2017-05-01                 15.915484                110.4607   \n",
       "17    2017-06-01                 16.295000                111.9943   \n",
       "18    2017-07-01                 17.372258                113.9199   \n",
       "19    2017-08-01                 17.626290                115.6031   \n",
       "20    2017-09-01                 17.428333                117.9656   \n",
       "21    2017-10-01                 17.659677                119.4985   \n",
       "22    2017-11-01                 17.693333                120.8941   \n",
       "23    2017-12-01                 17.810903                125.0392   \n",
       "24    2018-01-01                 19.023065                127.0147   \n",
       "25    2018-02-01                 19.835179                130.2913   \n",
       "26    2018-03-01                 20.229355                133.5028   \n",
       "27    2018-04-01                 20.251100                136.9380   \n",
       "28    2018-05-01                 23.600452                139.5800   \n",
       "29    2018-06-01                 26.674333                145.0582   \n",
       "30    2018-07-01                 27.607645                149.1178   \n",
       "\n",
       "    tipo_cambio_real_multilateral_actual  indice_serie_original  construccion  \n",
       "0                              96.037288             136.224649    141.662982  \n",
       "1                             102.527508             134.701421    138.955923  \n",
       "2                             102.953278             149.352475    140.656424  \n",
       "3                              97.192801             152.711833    126.001883  \n",
       "4                              91.175438             164.217485    134.256954  \n",
       "5                              88.988956             154.937264    128.572706  \n",
       "6                              92.526172             145.010287    128.647626  \n",
       "7                              92.525709             143.551707    144.744075  \n",
       "8                              92.953656             141.082192    136.889907  \n",
       "9                              91.703985             141.583637    127.559134  \n",
       "10                             88.741867             145.113998    133.994217  \n",
       "11                             89.660637             143.685102    130.647006  \n",
       "12                             90.435209             138.587537    140.698512  \n",
       "13                             88.677236             131.899329    137.008553  \n",
       "14                             86.401098             152.374182    151.319358  \n",
       "15                             83.432231             153.391480    135.921593  \n",
       "16                             83.869594             170.435025    147.540016  \n",
       "17                             84.762445             162.307068    148.103493  \n",
       "18                             90.799481             151.314340    148.882076  \n",
       "19                             92.279877             148.802720    162.215212  \n",
       "20                             90.433236             145.866951    153.876485  \n",
       "21                             88.784065             148.973111    151.729025  \n",
       "22                             87.113008             151.321668    155.751727  \n",
       "23                             86.546066             146.912976    144.970081  \n",
       "24                             96.628715             144.086686    158.920762  \n",
       "25                             96.121512             138.470530    152.630381  \n",
       "26                             93.062453             155.570021    158.931156  \n",
       "27                             90.715862             152.432629    149.860484  \n",
       "28                            104.302984             160.622476    154.011846  \n",
       "29                            114.546258                    NaN           NaN  \n",
       "30                            107.105698                    NaN           NaN  "
      ]
     },
     "execution_count": 11,
     "metadata": {},
     "output_type": "execute_result"
    }
   ],
   "source": [
    "df"
   ]
  },
  {
   "cell_type": "code",
   "execution_count": 12,
   "metadata": {},
   "outputs": [],
   "source": [
    "%matplotlib inline\n",
    "import matplotlib.pyplot as plt\n",
    "plt.style.use('ggplot')"
   ]
  },
  {
   "cell_type": "code",
   "execution_count": 13,
   "metadata": {},
   "outputs": [
    {
     "data": {
      "text/plain": [
       "<matplotlib.axes._subplots.AxesSubplot at 0x11da36668>"
      ]
     },
     "execution_count": 13,
     "metadata": {},
     "output_type": "execute_result"
    },
    {
     "data": {
      "image/png": "[encoded data removed]",
      "text/plain": [
       "<Figure size 1080x504 with 1 Axes>"
      ]
     },
     "metadata": {},
     "output_type": "display_data"
    }
   ],
   "source": [
    "df[[\"indice_serie_original\", \"construccion\"]].plot(figsize=(15,7))"
   ]
  },
  {
   "cell_type": "markdown",
   "metadata": {},
   "source": [
    "## Con `markdown` y `pdfkit`"
   ]
  },
  {
   "cell_type": "code",
   "execution_count": 14,
   "metadata": {},
   "outputs": [],
   "source": [
    "import markdown\n",
    "import pdfkit"
   ]
  },
  {
   "cell_type": "code",
   "execution_count": 15,
   "metadata": {},
   "outputs": [],
   "source": [
    "tipo_cambio = requests.get(get_api_call(\n",
    "    [\"168.1_T_CAMBIOR_D_0_0_26:avg\", \"168.1_T_CAMBIOR_D_0_0_26:max\", \"168.1_T_CAMBIOR_D_0_0_26:min\"], \n",
    "    sort=\"desc\", collapse=\"month\", limit=13\n",
    ")).json()[\"data\"]"
   ]
  },
  {
   "cell_type": "code",
   "execution_count": 16,
   "metadata": {},
   "outputs": [],
   "source": [
    "ipc = requests.get(get_api_call(\n",
    "    [\"101.1_I2NG_2016_M_22:percent_change\", \"101.1_I2NG_2016_M_22:percent_change_a_year_ago\"], \n",
    "    sort=\"desc\", collapse=\"month\", limit=13\n",
    ")).json()[\"data\"]"
   ]
  },
  {
   "cell_type": "code",
   "execution_count": 17,
   "metadata": {},
   "outputs": [],
   "source": [
    "emae = requests.get(get_api_call(\n",
    "    [\"143.3_NO_PR_2004_A_21\", \"143.3_NO_PR_2004_A_21:percent_change\", \"143.3_NO_PR_2004_A_21:percent_change_a_year_ago\"], \n",
    "    sort=\"desc\", collapse=\"month\", limit=13\n",
    ")).json()[\"data\"]"
   ]
  },
  {
   "cell_type": "code",
   "execution_count": 18,
   "metadata": {},
   "outputs": [],
   "source": [
    "import arrow"
   ]
  },
  {
   "cell_type": "code",
   "execution_count": 19,
   "metadata": {},
   "outputs": [],
   "source": [
    "reporte = \"\"\"\n",
    "# Seguimiento de coyuntura\n",
    "\n",
    "## Tipo de cambio\n",
    "\n",
    "El tipo de cambio promedio del mes de {mes_tc:%Y-%m} fue {mes_tc_promedio:.2f} con un máximo de {mes_tc_max:.2f} \n",
    "y un mínimo de {mes_tc_min:.2f}.\n",
    "\n",
    "## Inflación\n",
    "\n",
    "La inflación de {mes_ipc:%Y-%m} respecto de {mes_ipc_anterior:%Y-%m} fue de {mes_ipc_var:.2%}, mientras que la inflación interanual\n",
    "{mes_ipc:%Y-%m}/{mes_ipc_anio_anterior:%Y-%m} fue de {mes_ipc_var_interanual:.2%}.\n",
    "\n",
    "## Nivel de actividad\n",
    "\n",
    "El EMAE de {mes_emae:%Y-%m} muestra {alza_o_caida_mensual} respecto del mes anterior de {mes_emae_var:.2%}, y un \n",
    "{alza_o_caida_interanual} interanual de {mes_emae_var_interanual:.2%}.\n",
    "\"\"\".format(\n",
    "    mes_tc=arrow.get(tipo_cambio[1][0]).datetime,\n",
    "    mes_tc_promedio=tipo_cambio[1][1],\n",
    "    mes_tc_max=tipo_cambio[1][2],\n",
    "    mes_tc_min=tipo_cambio[1][3],\n",
    "    mes_ipc=arrow.get(ipc[0][0]).datetime,\n",
    "    mes_ipc_anterior=arrow.get(ipc[1][0]).datetime,\n",
    "    mes_ipc_var=ipc[0][1],\n",
    "    mes_ipc_anio_anterior=arrow.get(ipc[12][0]).datetime,\n",
    "    mes_ipc_var_interanual=ipc[0][2],\n",
    "    mes_emae=arrow.get(emae[0][0]).datetime,\n",
    "    alza_o_caida_mensual=\"alza\" if emae[0][2] >= 0 else \"caída\",\n",
    "    mes_emae_var=emae[0][2],\n",
    "    alza_o_caida_interanual=\"alza\" if emae[0][3] >= 0 else \"caída\",\n",
    "    mes_emae_var_interanual=emae[0][3]\n",
    ")"
   ]
  },
  {
   "cell_type": "code",
   "execution_count": 20,
   "metadata": {},
   "outputs": [],
   "source": [
    "from IPython.core.display import display, HTML"
   ]
  },
  {
   "cell_type": "code",
   "execution_count": 23,
   "metadata": {},
   "outputs": [
    {
     "data": {
      "text/html": [
       "<h1>Seguimiento de coyuntura</h1>\n",
       "<h2>Tipo de cambio</h2>\n",
       "<p>El tipo de cambio promedio del mes de 2018-07 fue 27.61 con un máximo de 28.85 \n",
       "y un mínimo de 27.21.</p>\n",
       "<h2>Inflación</h2>\n",
       "<p>La inflación de 2018-07 respecto de 2018-06 fue de 2.80%, mientras que la inflación interanual\n",
       "2018-07/2017-07 fue de 30.90%.</p>\n",
       "<h2>Nivel de actividad</h2>\n",
       "<p>El EMAE de 2018-05 muestra alza respecto del mes anterior de 5.37%, y un \n",
       "caída interanual de -5.76%.</p>"
      ],
      "text/plain": [
       "<IPython.core.display.HTML object>"
      ]
     },
     "metadata": {},
     "output_type": "display_data"
    }
   ],
   "source": [
    "# genera un HTML a partir del markdown\n",
    "html = markdown.markdown(reporte)\n",
    "display(HTML(html))"
   ]
  },
  {
   "cell_type": "code",
   "execution_count": 24,
   "metadata": {},
   "outputs": [
    {
     "name": "stdout",
     "output_type": "stream",
     "text": [
      "Loading pages (1/6)\n",
      "Counting pages (2/6)                                               \n",
      "Resolving links (4/6)                                                       \n",
      "Loading headers and footers (5/6)                                           \n",
      "Printing pages (6/6)\n",
      "Done                                                                      \n"
     ]
    },
    {
     "data": {
      "text/plain": [
       "True"
      ]
     },
     "execution_count": 24,
     "metadata": {},
     "output_type": "execute_result"
    }
   ],
   "source": [
    "# genera un PDF a partir del HTML\n",
    "pdfkit.from_string(html,'reporte-series-tiempo.pdf', options={\"encoding\": \"utf8\"})"
   ]
  },
  {
   "cell_type": "code",
   "execution_count": 25,
   "metadata": {},
   "outputs": [],
   "source": [
    "from send_email import send_email"
   ]
  },
  {
   "cell_type": "code",
   "execution_count": 26,
   "metadata": {},
   "outputs": [
    {
     "name": "stdout",
     "output_type": "stream",
     "text": [
      "Se envió exitosamente un reporte a agusbenassi@gmail.com\n"
     ]
    }
   ],
   "source": [
    "send_email(\"Reporte de coyuntura\", to=\"agusbenassi@gmail.com\", message_html=html, files=\"reporte-series-tiempo.pdf\")"
   ]
  }
 ],
 "metadata": {
  "kernelspec": {
   "display_name": "Python 3",
   "language": "python",
   "name": "python3"
  },
  "language_info": {
   "codemirror_mode": {
    "name": "ipython",
    "version": 3
   },
   "file_extension": ".py",
   "mimetype": "text/x-python",
   "name": "python",
   "nbconvert_exporter": "python",
   "pygments_lexer": "ipython3",
   "version": "3.5.5"
  }
 },
 "nbformat": 4,
 "nbformat_minor": 2
}
